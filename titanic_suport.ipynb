{
 "cells": [
  {
   "cell_type": "markdown",
   "metadata": {
    "id": "n7GUiDPCBTBa"
   },
   "source": [
    "# Titanic\n",
    "\n",
    "Fontes: \n",
    " - https://www.kaggle.com/alexmaszanski/titanic-simple-eda-for-beginners\n",
    "\n",
    "- https://www.kaggle.com/startupsci/titanic-data-science-solutions\n",
    "\n",
    "- Harrison, Matt. Machine Learning – Guia de Referência Rápida. Novatec Editora. \n",
    "\n",
    "\n",
    "\n"
   ]
  },
  {
   "cell_type": "markdown",
   "metadata": {
    "id": "dOcjKDO_QfhY"
   },
   "source": [
    "\n",
    "#__The Challenge__\n",
    "\n",
    "\n",
    "The sinking *(naufrágio)* of the Titanic is one of the most infamous shipwrecks *(nalfrágio)* in history.\n",
    "\n",
    "On April 15, 1912, during her maiden voyage, the widely *(amplamente)* considered “unsinkable” RMS Titanic sank after colliding with an iceberg. Unfortunately, there weren’t enough lifeboats for everyone onboard, resulting in the __death of 1502 out of 2224 passengers and crew__.\n",
    "\n",
    "While there was some element of luck involved in surviving, ***it seems some groups of people were more likely to survive than others.***\n",
    "\n",
    "In this challenge, we ask you to build a predictive model that answers the question: __“what sorts of people were more likely to survive?”__ using passenger data (ie name, age, gender, socio-economic class, etc).\n",
    "\n"
   ]
  },
  {
   "cell_type": "markdown",
   "metadata": {
    "id": "IljlKXsKCxT5"
   },
   "source": [
    "## Importando as bibliotecas e dataset\n",
    "\n",
    "interpretar corretamente os coeficientes de regressão logística"
   ]
  },
  {
   "cell_type": "code",
   "execution_count": 1,
   "metadata": {
    "id": "R3zAAB7xC5ez"
   },
   "outputs": [],
   "source": [
    "# Analise de dados e preparação de base\n",
    "import pandas as pd\n",
    "import numpy as np\n",
    "import random as rnd\n",
    "\n",
    "#Visualização\n",
    "import seaborn as sns\n",
    "import matplotlib.pyplot as plt\n",
    "%matplotlib inline\n",
    "\n",
    "#Machine learning"
   ]
  },
  {
   "cell_type": "markdown",
   "metadata": {
    "id": "zvRKUF58E_xU"
   },
   "source": [
    "__Comentários usados:__\n",
    "- Combine dados de treinamento e teste para determinadas operações, como a conversão de campos do dataset em valores numéricos.\n",
    "\n",
    "- Quase 30% dos passageiros tinham irmãos e / ou cônjuges a bordo.\n",
    "\n",
    "- interpretar corretamente os coeficientes de regressão logística.\n"
   ]
  },
  {
   "cell_type": "markdown",
   "metadata": {
    "id": "O82CAzpoUxiA"
   },
   "source": [
    "### Dicionário de dados\n",
    "\n",
    "- __PassengerId:__ Número de identificação do passageiro\n",
    "- __Survived:__ Informa se o passageiro sobreviveu ao desastre\n",
    "  - 0 = Não\n",
    "  - 1 = Sim\n",
    "- __Pclass:__ Classe do bilhete\n",
    "  - 1 = 1ª Classe\n",
    "  - 2 = 2ª Classe\n",
    "  - 3 = 3ª Classe\n",
    "- __Name:__ Nome do passageiro\n",
    "- __Sex:__ Sexo do passageiro\n",
    "- __Age:__ Idade do passageiro\n",
    "- __SibSp:__ Quantidade de cônjuges e irmãos a bordo\n",
    "- __Parch:__ Quantidade de pais e filhos a bordo\n",
    "- __Ticket:__ Número da passagem\n",
    "- __Fare:__ Preço da Passagem\n",
    "- __Cabin:__ Número da cabine do passageiro\n",
    "- __Embarked:__ Porto no qual o passageiro embarcou\n",
    "  - C = Cherbourg\n",
    "  - Q = Queenstown\n",
    "  -S = Southampton"
   ]
  },
  {
   "cell_type": "code",
   "execution_count": 2,
   "metadata": {
    "id": "4l6NcvuN99xa"
   },
   "outputs": [],
   "source": [
    "train = pd.read_csv(\"https://raw.githubusercontent.com/novais04/Data_Science_na_pratica/main/train.csv\", sep=\",\")"
   ]
  },
  {
   "cell_type": "code",
   "execution_count": 3,
   "metadata": {
    "id": "pvVG4kGwEe-f"
   },
   "outputs": [],
   "source": [
    "test = pd.read_csv(\"https://raw.githubusercontent.com/novais04/Data_Science_na_pratica/main/test.csv\", sep=\",\")"
   ]
  },
  {
   "cell_type": "code",
   "execution_count": 4,
   "metadata": {
    "id": "cLA74YDhX4tO"
   },
   "outputs": [],
   "source": [
    "combine = [train, test]"
   ]
  },
  {
   "cell_type": "markdown",
   "metadata": {
    "id": "RLYkZwvjHqgM"
   },
   "source": [
    "## Analise exploratória - Data Observation"
   ]
  },
  {
   "cell_type": "markdown",
   "metadata": {
    "id": "t-4x-JMTIbIu"
   },
   "source": [
    "### Observação 1)\n",
    "\n",
    "Nós temos 12 features, algumas das quais sao muito úteis e afetam a sobrevivência (target), por exemplo:\n",
    "\n",
    "1. __Age__: As crianças terão prioridade por lugares no bote salva vidas;\n",
    "2. O estatus da __cabin__ (cabine) da pessoa também, porque pessoas na primeira classe terão mais chances de sobreviver.\n",
    "3. Nós definitivamente termos que checar todas as features com a variável __target__, mais a frente.\n",
    "4. Note que nem totas os atributos são numéricos. Nós temos palavras, variaveis categoricas, etc. Vamos dar uma olhada nos tipos de dados  "
   ]
  },
  {
   "cell_type": "markdown",
   "metadata": {
    "id": "pIf4S_NgYYlC"
   },
   "source": [
    "### Quais são as variáveis deste dataset?"
   ]
  },
  {
   "cell_type": "code",
   "execution_count": 5,
   "metadata": {
    "colab": {
     "base_uri": "https://localhost:8080/"
    },
    "id": "OSK4i6S2GXOC",
    "outputId": "d4b95fe7-0875-43b0-9ce4-1dc31429508d"
   },
   "outputs": [
    {
     "name": "stdout",
     "output_type": "stream",
     "text": [
      "['PassengerId' 'Survived' 'Pclass' 'Name' 'Sex' 'Age' 'SibSp' 'Parch'\n",
      " 'Ticket' 'Fare' 'Cabin' 'Embarked']\n"
     ]
    }
   ],
   "source": [
    "print(train.columns.values)"
   ]
  },
  {
   "cell_type": "code",
   "execution_count": 6,
   "metadata": {
    "colab": {
     "base_uri": "https://localhost:8080/"
    },
    "id": "qsnSGhULKHTc",
    "outputId": "4097e7cb-ceed-4a08-a111-034835e4d5a9"
   },
   "outputs": [
    {
     "name": "stdout",
     "output_type": "stream",
     "text": [
      "<class 'pandas.core.frame.DataFrame'>\n",
      "RangeIndex: 891 entries, 0 to 890\n",
      "Data columns (total 12 columns):\n",
      " #   Column       Non-Null Count  Dtype  \n",
      "---  ------       --------------  -----  \n",
      " 0   PassengerId  891 non-null    int64  \n",
      " 1   Survived     891 non-null    int64  \n",
      " 2   Pclass       891 non-null    int64  \n",
      " 3   Name         891 non-null    object \n",
      " 4   Sex          891 non-null    object \n",
      " 5   Age          714 non-null    float64\n",
      " 6   SibSp        891 non-null    int64  \n",
      " 7   Parch        891 non-null    int64  \n",
      " 8   Ticket       891 non-null    object \n",
      " 9   Fare         891 non-null    float64\n",
      " 10  Cabin        204 non-null    object \n",
      " 11  Embarked     889 non-null    object \n",
      "dtypes: float64(2), int64(5), object(5)\n",
      "memory usage: 83.7+ KB\n"
     ]
    }
   ],
   "source": [
    "train.info()"
   ]
  },
  {
   "cell_type": "markdown",
   "metadata": {
    "id": "e5th4Y9XOIkm"
   },
   "source": [
    "\n",
    "### Quais os tipos das feactures ?\n",
    "__Categóricas:__\n",
    "\n",
    "Fetuares categoricas são de valores __nomnal__, __ordinal__, __razão__ ou __baseado em intervalos__.\n",
    "- __Categoricas:__ Survived, Sex e Embarked.\n",
    "- __Ordinal__: Pclass.\n",
    "\n",
    "__numérica:__\n",
    "Features numéricas são os valores __discretos__, __continuos__ ou __baseados em séries temporais__.\n",
    "- __Continuas:__ Age, Fare.\n",
    "- __Discretas:__ SibSp, Parch."
   ]
  },
  {
   "cell_type": "code",
   "execution_count": 7,
   "metadata": {
    "colab": {
     "base_uri": "https://localhost:8080/",
     "height": 504
    },
    "id": "VP6TEmIZY_kw",
    "outputId": "ec7d3fbf-36d7-42ac-aa46-5197cf3f379c"
   },
   "outputs": [
    {
     "data": {
      "text/html": [
       "<div>\n",
       "<style scoped>\n",
       "    .dataframe tbody tr th:only-of-type {\n",
       "        vertical-align: middle;\n",
       "    }\n",
       "\n",
       "    .dataframe tbody tr th {\n",
       "        vertical-align: top;\n",
       "    }\n",
       "\n",
       "    .dataframe thead th {\n",
       "        text-align: right;\n",
       "    }\n",
       "</style>\n",
       "<table border=\"1\" class=\"dataframe\">\n",
       "  <thead>\n",
       "    <tr style=\"text-align: right;\">\n",
       "      <th></th>\n",
       "      <th>PassengerId</th>\n",
       "      <th>Survived</th>\n",
       "      <th>Pclass</th>\n",
       "      <th>Name</th>\n",
       "      <th>Sex</th>\n",
       "      <th>Age</th>\n",
       "      <th>SibSp</th>\n",
       "      <th>Parch</th>\n",
       "      <th>Ticket</th>\n",
       "      <th>Fare</th>\n",
       "      <th>Cabin</th>\n",
       "      <th>Embarked</th>\n",
       "    </tr>\n",
       "  </thead>\n",
       "  <tbody>\n",
       "    <tr>\n",
       "      <th>0</th>\n",
       "      <td>1</td>\n",
       "      <td>0</td>\n",
       "      <td>3</td>\n",
       "      <td>Braund, Mr. Owen Harris</td>\n",
       "      <td>male</td>\n",
       "      <td>22.0</td>\n",
       "      <td>1</td>\n",
       "      <td>0</td>\n",
       "      <td>A/5 21171</td>\n",
       "      <td>7.2500</td>\n",
       "      <td>NaN</td>\n",
       "      <td>S</td>\n",
       "    </tr>\n",
       "    <tr>\n",
       "      <th>1</th>\n",
       "      <td>2</td>\n",
       "      <td>1</td>\n",
       "      <td>1</td>\n",
       "      <td>Cumings, Mrs. John Bradley (Florence Briggs Th...</td>\n",
       "      <td>female</td>\n",
       "      <td>38.0</td>\n",
       "      <td>1</td>\n",
       "      <td>0</td>\n",
       "      <td>PC 17599</td>\n",
       "      <td>71.2833</td>\n",
       "      <td>C85</td>\n",
       "      <td>C</td>\n",
       "    </tr>\n",
       "    <tr>\n",
       "      <th>2</th>\n",
       "      <td>3</td>\n",
       "      <td>1</td>\n",
       "      <td>3</td>\n",
       "      <td>Heikkinen, Miss. Laina</td>\n",
       "      <td>female</td>\n",
       "      <td>26.0</td>\n",
       "      <td>0</td>\n",
       "      <td>0</td>\n",
       "      <td>STON/O2. 3101282</td>\n",
       "      <td>7.9250</td>\n",
       "      <td>NaN</td>\n",
       "      <td>S</td>\n",
       "    </tr>\n",
       "    <tr>\n",
       "      <th>3</th>\n",
       "      <td>4</td>\n",
       "      <td>1</td>\n",
       "      <td>1</td>\n",
       "      <td>Futrelle, Mrs. Jacques Heath (Lily May Peel)</td>\n",
       "      <td>female</td>\n",
       "      <td>35.0</td>\n",
       "      <td>1</td>\n",
       "      <td>0</td>\n",
       "      <td>113803</td>\n",
       "      <td>53.1000</td>\n",
       "      <td>C123</td>\n",
       "      <td>S</td>\n",
       "    </tr>\n",
       "    <tr>\n",
       "      <th>4</th>\n",
       "      <td>5</td>\n",
       "      <td>0</td>\n",
       "      <td>3</td>\n",
       "      <td>Allen, Mr. William Henry</td>\n",
       "      <td>male</td>\n",
       "      <td>35.0</td>\n",
       "      <td>0</td>\n",
       "      <td>0</td>\n",
       "      <td>373450</td>\n",
       "      <td>8.0500</td>\n",
       "      <td>NaN</td>\n",
       "      <td>S</td>\n",
       "    </tr>\n",
       "  </tbody>\n",
       "</table>\n",
       "</div>"
      ],
      "text/plain": [
       "   PassengerId  Survived  Pclass  ...     Fare Cabin  Embarked\n",
       "0            1         0       3  ...   7.2500   NaN         S\n",
       "1            2         1       1  ...  71.2833   C85         C\n",
       "2            3         1       3  ...   7.9250   NaN         S\n",
       "3            4         1       1  ...  53.1000  C123         S\n",
       "4            5         0       3  ...   8.0500   NaN         S\n",
       "\n",
       "[5 rows x 12 columns]"
      ]
     },
     "execution_count": 7,
     "metadata": {},
     "output_type": "execute_result"
    }
   ],
   "source": [
    "train.head(5)"
   ]
  },
  {
   "cell_type": "markdown",
   "metadata": {
    "id": "LEjoyxjSZLJM"
   },
   "source": [
    "__Tipos de dados misto:__\n",
    "São dados Numericos, alphanuméricos dentro da mesma feature. \n",
    "__Eles são canditados a correção__, são eles:\n",
    "  - __Ticket:__ é um mix de tipos de dados numérico e alfanúmerico;\n",
    "  - __Canin:__ é alfanumérico"
   ]
  },
  {
   "cell_type": "markdown",
   "metadata": {
    "id": "w4Gfn-gtaIgc"
   },
   "source": [
    "__Quais features contém erros ou erros de digitaçao?__\n",
    "\n",
    "Estes é mais difícil de ver em um dataser grande, no entando, revisando algums amostras de exemplo de dataset menor podemos ver abertamente, quais features mais requerem correções:\n",
    " - O recurso de nome pode conter erros ou erros de digitação, pois há várias maneiras de descrever um nome, incluindo títulos, colchetes e aspas usadas para nomes alternativos ou abreviados.\n"
   ]
  },
  {
   "cell_type": "code",
   "execution_count": 8,
   "metadata": {
    "colab": {
     "base_uri": "https://localhost:8080/",
     "height": 452
    },
    "id": "ZevkLgPcbYKs",
    "outputId": "540b3305-ad06-402a-85fe-6153d4528c97"
   },
   "outputs": [
    {
     "data": {
      "text/html": [
       "<div>\n",
       "<style scoped>\n",
       "    .dataframe tbody tr th:only-of-type {\n",
       "        vertical-align: middle;\n",
       "    }\n",
       "\n",
       "    .dataframe tbody tr th {\n",
       "        vertical-align: top;\n",
       "    }\n",
       "\n",
       "    .dataframe thead th {\n",
       "        text-align: right;\n",
       "    }\n",
       "</style>\n",
       "<table border=\"1\" class=\"dataframe\">\n",
       "  <thead>\n",
       "    <tr style=\"text-align: right;\">\n",
       "      <th></th>\n",
       "      <th>PassengerId</th>\n",
       "      <th>Survived</th>\n",
       "      <th>Pclass</th>\n",
       "      <th>Name</th>\n",
       "      <th>Sex</th>\n",
       "      <th>Age</th>\n",
       "      <th>SibSp</th>\n",
       "      <th>Parch</th>\n",
       "      <th>Ticket</th>\n",
       "      <th>Fare</th>\n",
       "      <th>Cabin</th>\n",
       "      <th>Embarked</th>\n",
       "    </tr>\n",
       "  </thead>\n",
       "  <tbody>\n",
       "    <tr>\n",
       "      <th>886</th>\n",
       "      <td>887</td>\n",
       "      <td>0</td>\n",
       "      <td>2</td>\n",
       "      <td>Montvila, Rev. Juozas</td>\n",
       "      <td>male</td>\n",
       "      <td>27.0</td>\n",
       "      <td>0</td>\n",
       "      <td>0</td>\n",
       "      <td>211536</td>\n",
       "      <td>13.00</td>\n",
       "      <td>NaN</td>\n",
       "      <td>S</td>\n",
       "    </tr>\n",
       "    <tr>\n",
       "      <th>887</th>\n",
       "      <td>888</td>\n",
       "      <td>1</td>\n",
       "      <td>1</td>\n",
       "      <td>Graham, Miss. Margaret Edith</td>\n",
       "      <td>female</td>\n",
       "      <td>19.0</td>\n",
       "      <td>0</td>\n",
       "      <td>0</td>\n",
       "      <td>112053</td>\n",
       "      <td>30.00</td>\n",
       "      <td>B42</td>\n",
       "      <td>S</td>\n",
       "    </tr>\n",
       "    <tr>\n",
       "      <th>888</th>\n",
       "      <td>889</td>\n",
       "      <td>0</td>\n",
       "      <td>3</td>\n",
       "      <td>Johnston, Miss. Catherine Helen \"Carrie\"</td>\n",
       "      <td>female</td>\n",
       "      <td>NaN</td>\n",
       "      <td>1</td>\n",
       "      <td>2</td>\n",
       "      <td>W./C. 6607</td>\n",
       "      <td>23.45</td>\n",
       "      <td>NaN</td>\n",
       "      <td>S</td>\n",
       "    </tr>\n",
       "    <tr>\n",
       "      <th>889</th>\n",
       "      <td>890</td>\n",
       "      <td>1</td>\n",
       "      <td>1</td>\n",
       "      <td>Behr, Mr. Karl Howell</td>\n",
       "      <td>male</td>\n",
       "      <td>26.0</td>\n",
       "      <td>0</td>\n",
       "      <td>0</td>\n",
       "      <td>111369</td>\n",
       "      <td>30.00</td>\n",
       "      <td>C148</td>\n",
       "      <td>C</td>\n",
       "    </tr>\n",
       "    <tr>\n",
       "      <th>890</th>\n",
       "      <td>891</td>\n",
       "      <td>0</td>\n",
       "      <td>3</td>\n",
       "      <td>Dooley, Mr. Patrick</td>\n",
       "      <td>male</td>\n",
       "      <td>32.0</td>\n",
       "      <td>0</td>\n",
       "      <td>0</td>\n",
       "      <td>370376</td>\n",
       "      <td>7.75</td>\n",
       "      <td>NaN</td>\n",
       "      <td>Q</td>\n",
       "    </tr>\n",
       "  </tbody>\n",
       "</table>\n",
       "</div>"
      ],
      "text/plain": [
       "     PassengerId  Survived  Pclass  ...   Fare Cabin  Embarked\n",
       "886          887         0       2  ...  13.00   NaN         S\n",
       "887          888         1       1  ...  30.00   B42         S\n",
       "888          889         0       3  ...  23.45   NaN         S\n",
       "889          890         1       1  ...  30.00  C148         C\n",
       "890          891         0       3  ...   7.75   NaN         Q\n",
       "\n",
       "[5 rows x 12 columns]"
      ]
     },
     "execution_count": 8,
     "metadata": {},
     "output_type": "execute_result"
    }
   ],
   "source": [
    "train.tail()"
   ]
  },
  {
   "cell_type": "markdown",
   "metadata": {
    "id": "gQ8m7A3ybxUc"
   },
   "source": [
    "__Quais features contêm valores em branco, nulos ou vazios?__\n",
    "\n",
    "Estes requererão correção:\n",
    "  - Cabin, Age e Embarekd são features que contem um numero de valores nulos nesta no dataset de treino.\n",
    "  - Cabin, Age estão incompletas no dataser de test\n",
    "\n"
   ]
  },
  {
   "cell_type": "markdown",
   "metadata": {
    "id": "QMlVX0A-dJfo"
   },
   "source": [
    "###Quais são os tipos de dados das features?\n",
    "\n",
    "Nos ajudará durante a conversão de tipos de campos:\n",
    "  - Sete features são inteiras o floats (train) e seis no dataser de test.\n",
    "  - Cinco features são strings(object)  "
   ]
  },
  {
   "cell_type": "code",
   "execution_count": 9,
   "metadata": {
    "colab": {
     "base_uri": "https://localhost:8080/"
    },
    "id": "wha5RAzad-bb",
    "outputId": "e103c64e-993c-4f75-98a1-5c7acfa2b21c"
   },
   "outputs": [
    {
     "name": "stdout",
     "output_type": "stream",
     "text": [
      "<class 'pandas.core.frame.DataFrame'>\n",
      "RangeIndex: 891 entries, 0 to 890\n",
      "Data columns (total 12 columns):\n",
      " #   Column       Non-Null Count  Dtype  \n",
      "---  ------       --------------  -----  \n",
      " 0   PassengerId  891 non-null    int64  \n",
      " 1   Survived     891 non-null    int64  \n",
      " 2   Pclass       891 non-null    int64  \n",
      " 3   Name         891 non-null    object \n",
      " 4   Sex          891 non-null    object \n",
      " 5   Age          714 non-null    float64\n",
      " 6   SibSp        891 non-null    int64  \n",
      " 7   Parch        891 non-null    int64  \n",
      " 8   Ticket       891 non-null    object \n",
      " 9   Fare         891 non-null    float64\n",
      " 10  Cabin        204 non-null    object \n",
      " 11  Embarked     889 non-null    object \n",
      "dtypes: float64(2), int64(5), object(5)\n",
      "memory usage: 83.7+ KB\n",
      "_ _ _ _ _ _ _ _ _ _ _ _ _ _ _ _ _ _ _ _ \n",
      "<class 'pandas.core.frame.DataFrame'>\n",
      "RangeIndex: 418 entries, 0 to 417\n",
      "Data columns (total 11 columns):\n",
      " #   Column       Non-Null Count  Dtype  \n",
      "---  ------       --------------  -----  \n",
      " 0   PassengerId  418 non-null    int64  \n",
      " 1   Pclass       418 non-null    int64  \n",
      " 2   Name         418 non-null    object \n",
      " 3   Sex          418 non-null    object \n",
      " 4   Age          332 non-null    float64\n",
      " 5   SibSp        418 non-null    int64  \n",
      " 6   Parch        418 non-null    int64  \n",
      " 7   Ticket       418 non-null    object \n",
      " 8   Fare         417 non-null    float64\n",
      " 9   Cabin        91 non-null     object \n",
      " 10  Embarked     418 non-null    object \n",
      "dtypes: float64(2), int64(4), object(5)\n",
      "memory usage: 36.0+ KB\n"
     ]
    },
    {
     "data": {
      "text/plain": [
       "(None, None, None)"
      ]
     },
     "execution_count": 9,
     "metadata": {},
     "output_type": "execute_result"
    }
   ],
   "source": [
    "train.info(), print('_ '*20), test.info()"
   ]
  },
  {
   "cell_type": "markdown",
   "metadata": {
    "id": "saB2xTSEf8X-"
   },
   "source": [
    "__Qual é a distribuição dos valores numéricos do dataser nas amostras?__"
   ]
  },
  {
   "cell_type": "code",
   "execution_count": 10,
   "metadata": {
    "colab": {
     "base_uri": "https://localhost:8080/",
     "height": 320
    },
    "id": "Iax_PxgGf_tL",
    "outputId": "f4e57881-41dd-497d-ee4f-90d11f8b9d97"
   },
   "outputs": [
    {
     "data": {
      "text/html": [
       "<div>\n",
       "<style scoped>\n",
       "    .dataframe tbody tr th:only-of-type {\n",
       "        vertical-align: middle;\n",
       "    }\n",
       "\n",
       "    .dataframe tbody tr th {\n",
       "        vertical-align: top;\n",
       "    }\n",
       "\n",
       "    .dataframe thead th {\n",
       "        text-align: right;\n",
       "    }\n",
       "</style>\n",
       "<table border=\"1\" class=\"dataframe\">\n",
       "  <thead>\n",
       "    <tr style=\"text-align: right;\">\n",
       "      <th></th>\n",
       "      <th>PassengerId</th>\n",
       "      <th>Survived</th>\n",
       "      <th>Pclass</th>\n",
       "      <th>Age</th>\n",
       "      <th>SibSp</th>\n",
       "      <th>Parch</th>\n",
       "      <th>Fare</th>\n",
       "    </tr>\n",
       "  </thead>\n",
       "  <tbody>\n",
       "    <tr>\n",
       "      <th>count</th>\n",
       "      <td>891.000000</td>\n",
       "      <td>891.000000</td>\n",
       "      <td>891.000000</td>\n",
       "      <td>714.000000</td>\n",
       "      <td>891.000000</td>\n",
       "      <td>891.000000</td>\n",
       "      <td>891.000000</td>\n",
       "    </tr>\n",
       "    <tr>\n",
       "      <th>mean</th>\n",
       "      <td>446.000000</td>\n",
       "      <td>0.383838</td>\n",
       "      <td>2.308642</td>\n",
       "      <td>29.699118</td>\n",
       "      <td>0.523008</td>\n",
       "      <td>0.381594</td>\n",
       "      <td>32.204208</td>\n",
       "    </tr>\n",
       "    <tr>\n",
       "      <th>std</th>\n",
       "      <td>257.353842</td>\n",
       "      <td>0.486592</td>\n",
       "      <td>0.836071</td>\n",
       "      <td>14.526497</td>\n",
       "      <td>1.102743</td>\n",
       "      <td>0.806057</td>\n",
       "      <td>49.693429</td>\n",
       "    </tr>\n",
       "    <tr>\n",
       "      <th>min</th>\n",
       "      <td>1.000000</td>\n",
       "      <td>0.000000</td>\n",
       "      <td>1.000000</td>\n",
       "      <td>0.420000</td>\n",
       "      <td>0.000000</td>\n",
       "      <td>0.000000</td>\n",
       "      <td>0.000000</td>\n",
       "    </tr>\n",
       "    <tr>\n",
       "      <th>25%</th>\n",
       "      <td>223.500000</td>\n",
       "      <td>0.000000</td>\n",
       "      <td>2.000000</td>\n",
       "      <td>20.125000</td>\n",
       "      <td>0.000000</td>\n",
       "      <td>0.000000</td>\n",
       "      <td>7.910400</td>\n",
       "    </tr>\n",
       "    <tr>\n",
       "      <th>50%</th>\n",
       "      <td>446.000000</td>\n",
       "      <td>0.000000</td>\n",
       "      <td>3.000000</td>\n",
       "      <td>28.000000</td>\n",
       "      <td>0.000000</td>\n",
       "      <td>0.000000</td>\n",
       "      <td>14.454200</td>\n",
       "    </tr>\n",
       "    <tr>\n",
       "      <th>75%</th>\n",
       "      <td>668.500000</td>\n",
       "      <td>1.000000</td>\n",
       "      <td>3.000000</td>\n",
       "      <td>38.000000</td>\n",
       "      <td>1.000000</td>\n",
       "      <td>0.000000</td>\n",
       "      <td>31.000000</td>\n",
       "    </tr>\n",
       "    <tr>\n",
       "      <th>max</th>\n",
       "      <td>891.000000</td>\n",
       "      <td>1.000000</td>\n",
       "      <td>3.000000</td>\n",
       "      <td>80.000000</td>\n",
       "      <td>8.000000</td>\n",
       "      <td>6.000000</td>\n",
       "      <td>512.329200</td>\n",
       "    </tr>\n",
       "  </tbody>\n",
       "</table>\n",
       "</div>"
      ],
      "text/plain": [
       "       PassengerId    Survived      Pclass  ...       SibSp       Parch        Fare\n",
       "count   891.000000  891.000000  891.000000  ...  891.000000  891.000000  891.000000\n",
       "mean    446.000000    0.383838    2.308642  ...    0.523008    0.381594   32.204208\n",
       "std     257.353842    0.486592    0.836071  ...    1.102743    0.806057   49.693429\n",
       "min       1.000000    0.000000    1.000000  ...    0.000000    0.000000    0.000000\n",
       "25%     223.500000    0.000000    2.000000  ...    0.000000    0.000000    7.910400\n",
       "50%     446.000000    0.000000    3.000000  ...    0.000000    0.000000   14.454200\n",
       "75%     668.500000    1.000000    3.000000  ...    1.000000    0.000000   31.000000\n",
       "max     891.000000    1.000000    3.000000  ...    8.000000    6.000000  512.329200\n",
       "\n",
       "[8 rows x 7 columns]"
      ]
     },
     "execution_count": 10,
     "metadata": {},
     "output_type": "execute_result"
    }
   ],
   "source": [
    "# Review survived rate using `percentiles=[.61, .62]` knowing our problem description mentions 38% survival rate.\n",
    "# Review Parch distribution using `percentiles=[.75, .8]`\n",
    "# SibSp distribution `[.68, .69]`\n",
    "# Age and Fare `[.1, .2, .3, .4, .5, .6, .7, .8, .9, .99]`\n",
    "train.describe()"
   ]
  },
  {
   "cell_type": "code",
   "execution_count": 11,
   "metadata": {
    "colab": {
     "base_uri": "https://localhost:8080/",
     "height": 499
    },
    "id": "eiLjno2qizbQ",
    "outputId": "ee3fdde2-56e9-46c5-dabf-7f4511b4b052"
   },
   "outputs": [
    {
     "data": {
      "image/png": "[encoded data removed]",
      "text/plain": [
       "<Figure size 720x576 with 9 Axes>"
      ]
     },
     "metadata": {
      "needs_background": "light"
     },
     "output_type": "display_data"
    }
   ],
   "source": [
    "# Histograma com variáveis numéricas\n",
    "train.hist(figsize=(10,8));"
   ]
  },
  {
   "cell_type": "markdown",
   "metadata": {
    "id": "EQl2REyHeYzA"
   },
   "source": [
    "\n",
    "\n",
    "Isso nos ajuda a determinar, entre outros insights iniciais, o quão representativo é o dataset de treinamento do domínio do problema real.\n",
    "\n",
    " - Total de amostras 891 ou 40% número real de passageiros que era de 2224 pessoas.;\n",
    " - Survived é uma feature categorica com valores 0 ou 1;\n",
    " - Cerca de 38%  das pessoas da amsotra sobreviveram, o que representa 32% do sobrevincia real.\n",
    " - A maioria dos passageiros (> 75%) não viajou com os pais ou filhos. (terceiro quartiu 0 para estes campos)\n",
    " - perto de 30% dos passageiros tem iirmãos ou esposa aborto.\n",
    " - As tarifas variaram significativamente com poucos passageiros pagando até $ 512.\n",
    " - Poucos passageiros idosos na faixa etária de 65-80 anos."
   ]
  },
  {
   "cell_type": "markdown",
   "metadata": {
    "id": "M4r6ntKwoxEO"
   },
   "source": [
    "__Qual é a distribuição das features categóricos?__"
   ]
  },
  {
   "cell_type": "code",
   "execution_count": 12,
   "metadata": {
    "colab": {
     "base_uri": "https://localhost:8080/",
     "height": 175
    },
    "id": "zprAUEr5o1v6",
    "outputId": "8ec10a27-44ec-43e7-8076-d57d0e00c96f"
   },
   "outputs": [
    {
     "data": {
      "text/html": [
       "<div>\n",
       "<style scoped>\n",
       "    .dataframe tbody tr th:only-of-type {\n",
       "        vertical-align: middle;\n",
       "    }\n",
       "\n",
       "    .dataframe tbody tr th {\n",
       "        vertical-align: top;\n",
       "    }\n",
       "\n",
       "    .dataframe thead th {\n",
       "        text-align: right;\n",
       "    }\n",
       "</style>\n",
       "<table border=\"1\" class=\"dataframe\">\n",
       "  <thead>\n",
       "    <tr style=\"text-align: right;\">\n",
       "      <th></th>\n",
       "      <th>Name</th>\n",
       "      <th>Sex</th>\n",
       "      <th>Ticket</th>\n",
       "      <th>Cabin</th>\n",
       "      <th>Embarked</th>\n",
       "    </tr>\n",
       "  </thead>\n",
       "  <tbody>\n",
       "    <tr>\n",
       "      <th>count</th>\n",
       "      <td>891</td>\n",
       "      <td>891</td>\n",
       "      <td>891</td>\n",
       "      <td>204</td>\n",
       "      <td>889</td>\n",
       "    </tr>\n",
       "    <tr>\n",
       "      <th>unique</th>\n",
       "      <td>891</td>\n",
       "      <td>2</td>\n",
       "      <td>681</td>\n",
       "      <td>147</td>\n",
       "      <td>3</td>\n",
       "    </tr>\n",
       "    <tr>\n",
       "      <th>top</th>\n",
       "      <td>Nasser, Mrs. Nicholas (Adele Achem)</td>\n",
       "      <td>male</td>\n",
       "      <td>CA. 2343</td>\n",
       "      <td>B96 B98</td>\n",
       "      <td>S</td>\n",
       "    </tr>\n",
       "    <tr>\n",
       "      <th>freq</th>\n",
       "      <td>1</td>\n",
       "      <td>577</td>\n",
       "      <td>7</td>\n",
       "      <td>4</td>\n",
       "      <td>644</td>\n",
       "    </tr>\n",
       "  </tbody>\n",
       "</table>\n",
       "</div>"
      ],
      "text/plain": [
       "                                       Name   Sex    Ticket    Cabin Embarked\n",
       "count                                   891   891       891      204      889\n",
       "unique                                  891     2       681      147        3\n",
       "top     Nasser, Mrs. Nicholas (Adele Achem)  male  CA. 2343  B96 B98        S\n",
       "freq                                      1   577         7        4      644"
      ]
     },
     "execution_count": 12,
     "metadata": {},
     "output_type": "execute_result"
    }
   ],
   "source": [
    "train.describe(include=['object'])"
   ]
  },
  {
   "cell_type": "markdown",
   "metadata": {
    "id": "NAhUKNoWpEgb"
   },
   "source": [
    "  - As variaveis __name__ são unicos (não repetem) no dataset (contagem = exclusivo = 891);\n",
    "  - Variável de __Sex__ como dois valores possíveis com 65% do sexo masculino (topo = masculino, freq = 577 / contagem = 891).\n",
    "  - Os valores da variavel __cabin__ têm vários dupicates nas amostras. Alternativamente, vários passageiros compartilhavam uma cabine.\n",
    "  -Embarked assume três valores possíveis. Porto Southampton __\"S\"__ usado pela maioria dos passageiros (topo = S);\n",
    "  - Ticket feature tem uma alta proporção (22%) de valores duplicados (único = 681)."
   ]
  },
  {
   "cell_type": "markdown",
   "metadata": {
    "id": "BvJvIdbxrnOg"
   },
   "source": [
    "## Corelação"
   ]
  },
  {
   "cell_type": "markdown",
   "metadata": {
    "id": "RCfLeFFWqfdf"
   },
   "source": [
    "##Suposições baseadas na análise de dados\n",
    "\n",
    "Chegamos às seguintes suposições com base na análise de dados feita até agora. Podemos validar essas suposições ainda mais antes de tomar as medidas adequadas.\n"
   ]
  },
  {
   "cell_type": "code",
   "execution_count": 13,
   "metadata": {
    "colab": {
     "base_uri": "https://localhost:8080/",
     "height": 429
    },
    "id": "JFBKw8azs57r",
    "outputId": "a01f8803-fc99-4193-b112-26896f91b2ca"
   },
   "outputs": [
    {
     "data": {
      "image/png": "[encoded data removed]",
      "text/plain": [
       "<Figure size 576x432 with 2 Axes>"
      ]
     },
     "metadata": {
      "needs_background": "light"
     },
     "output_type": "display_data"
    }
   ],
   "source": [
    "fig, ax = plt.subplots(figsize=(8,6))\n",
    "ax = sns.heatmap(train.corr(), fmt=\".2f\",annot=True,ax=ax  , cmap=\"RdBu_r\")"
   ]
  },
  {
   "cell_type": "markdown",
   "metadata": {
    "id": "xVLnSizxwrGP"
   },
   "source": [
    "### Completando dados\n",
    "  - Podemos querer completar a característica Idade, pois ela está definitivamente relacionada à sobrevivência.\n",
    "  - Podemos querer completar o recurso Embarked, pois também pode se correlacionar com a sobrevivência ou outro recurso importante."
   ]
  },
  {
   "cell_type": "markdown",
   "metadata": {
    "id": "cbxXneLWxdte"
   },
   "source": [
    "### Corrigindo dados\n",
    " - A feature __Ticket__ pode ser excluído de nossa análise, pois contém uma alta proporção de duplicatas (22%) e pode não haver uma correlação entre o __Ticket__ e a __Survided__.\n",
    " - A feature __Cabin__ possuem muitos valores incompletos e nulos em ambos datasets train e test.\n",
    " - __PassengerId__ pode ser descartado do Dataset de treinamento, pois não contribui para a feature __Survived__.\n",
    " - A feature __name__ é relativamente fora do padrão, pode não contribuir diretamente para a feature __Surviverd__, então pode ser descartado."
   ]
  },
  {
   "cell_type": "markdown",
   "metadata": {
    "id": "VTK14QbAzLyG"
   },
   "source": [
    "### Criando novos campos\n",
    "  1. Nós podemos querer criar uma nova feature chamado __Family__ baseado em __Parch__ e __SibSp__ para obter a contagem total de membros da família a bordo.\n",
    "  2. Nós podemos querer reoganizar a feature __name__ para extrair o __Title__ como uma nova feature.\n",
    "  3. Nós podemos quere criar uma nova feature para Age_bands (faixa etária). Esta retorna um feature numérica continua  numa feature categorica ordinal.\n",
    "  4. Nós também podemos querer criar uma feature range __Fare__ ,se isso ajudar nosso análise. "
   ]
  },
  {
   "cell_type": "markdown",
   "metadata": {
    "id": "gO15P5U_1Nuf"
   },
   "source": [
    "### Classificando\n",
    "Nós podemos também adicionar suposiçoes baseadas no problema descrito em anotações anteriores.\n",
    "  1. Mulheres (Sex=female) wram mais propensos a ter sobrevivido.\n",
    "  2. Crianças (Age <?) eram mais propensos a ter sobrevivido. \n",
    "  3. Os passagerios de alta classe \"The upper-class passengers\" (Pclass = 1) eram mais propensos a ter sobrevivido. "
   ]
  },
  {
   "cell_type": "markdown",
   "metadata": {
    "id": "kwYbulzX2jdD"
   },
   "source": [
    "## Análise para pivotagem de features\n",
    "Para confirmar algumas das nossas observaçoes e suposiçoes, nós podemos rapitamente analisar nossas features correlacionadas para pivotar um feature contra a outra. Nós podemos somente fazer este estagio para features que não tem nenhum valor vazio. Isso também faz sentido fazer somente para features que são categoricas (__sex__), ordinal (__Pclass__) ou tipos discretos (__SibSo__, __Parch__).\n",
    "  "
   ]
  },
  {
   "cell_type": "code",
   "execution_count": 14,
   "metadata": {
    "colab": {
     "base_uri": "https://localhost:8080/",
     "height": 143
    },
    "id": "C4qsKhzXrtDH",
    "outputId": "670bfe60-3719-49a6-f62f-e37d7019ffbc"
   },
   "outputs": [
    {
     "data": {
      "text/html": [
       "<div>\n",
       "<style scoped>\n",
       "    .dataframe tbody tr th:only-of-type {\n",
       "        vertical-align: middle;\n",
       "    }\n",
       "\n",
       "    .dataframe tbody tr th {\n",
       "        vertical-align: top;\n",
       "    }\n",
       "\n",
       "    .dataframe thead th {\n",
       "        text-align: right;\n",
       "    }\n",
       "</style>\n",
       "<table border=\"1\" class=\"dataframe\">\n",
       "  <thead>\n",
       "    <tr style=\"text-align: right;\">\n",
       "      <th></th>\n",
       "      <th>Pclass</th>\n",
       "      <th>Survived</th>\n",
       "    </tr>\n",
       "  </thead>\n",
       "  <tbody>\n",
       "    <tr>\n",
       "      <th>0</th>\n",
       "      <td>1</td>\n",
       "      <td>0.629630</td>\n",
       "    </tr>\n",
       "    <tr>\n",
       "      <th>1</th>\n",
       "      <td>2</td>\n",
       "      <td>0.472826</td>\n",
       "    </tr>\n",
       "    <tr>\n",
       "      <th>2</th>\n",
       "      <td>3</td>\n",
       "      <td>0.242363</td>\n",
       "    </tr>\n",
       "  </tbody>\n",
       "</table>\n",
       "</div>"
      ],
      "text/plain": [
       "   Pclass  Survived\n",
       "0       1  0.629630\n",
       "1       2  0.472826\n",
       "2       3  0.242363"
      ]
     },
     "execution_count": 14,
     "metadata": {},
     "output_type": "execute_result"
    }
   ],
   "source": [
    "train[['Pclass','Survived']].groupby(['Pclass'], as_index=False).mean(\n",
    "    ).sort_values(by='Survived', ascending=False)"
   ]
  },
  {
   "cell_type": "code",
   "execution_count": 15,
   "metadata": {
    "colab": {
     "base_uri": "https://localhost:8080/",
     "height": 112
    },
    "id": "vsvToXRmzJJo",
    "outputId": "81ab425a-a0d8-466f-ac85-99ff60ab4266"
   },
   "outputs": [
    {
     "data": {
      "text/html": [
       "<div>\n",
       "<style scoped>\n",
       "    .dataframe tbody tr th:only-of-type {\n",
       "        vertical-align: middle;\n",
       "    }\n",
       "\n",
       "    .dataframe tbody tr th {\n",
       "        vertical-align: top;\n",
       "    }\n",
       "\n",
       "    .dataframe thead th {\n",
       "        text-align: right;\n",
       "    }\n",
       "</style>\n",
       "<table border=\"1\" class=\"dataframe\">\n",
       "  <thead>\n",
       "    <tr style=\"text-align: right;\">\n",
       "      <th></th>\n",
       "      <th>Sex</th>\n",
       "      <th>Survived</th>\n",
       "    </tr>\n",
       "  </thead>\n",
       "  <tbody>\n",
       "    <tr>\n",
       "      <th>0</th>\n",
       "      <td>female</td>\n",
       "      <td>0.742038</td>\n",
       "    </tr>\n",
       "    <tr>\n",
       "      <th>1</th>\n",
       "      <td>male</td>\n",
       "      <td>0.188908</td>\n",
       "    </tr>\n",
       "  </tbody>\n",
       "</table>\n",
       "</div>"
      ],
      "text/plain": [
       "      Sex  Survived\n",
       "0  female  0.742038\n",
       "1    male  0.188908"
      ]
     },
     "execution_count": 15,
     "metadata": {},
     "output_type": "execute_result"
    }
   ],
   "source": [
    "train[['Sex','Survived']].groupby(['Sex'], as_index=False).mean(\n",
    "    ).sort_values(by='Survived', ascending=False)"
   ]
  },
  {
   "cell_type": "code",
   "execution_count": 16,
   "metadata": {
    "colab": {
     "base_uri": "https://localhost:8080/",
     "height": 269
    },
    "id": "9qOKyai4wnSp",
    "outputId": "5ed16f49-55ef-4665-9981-2be25e2f7be9"
   },
   "outputs": [
    {
     "data": {
      "text/html": [
       "<div>\n",
       "<style scoped>\n",
       "    .dataframe tbody tr th:only-of-type {\n",
       "        vertical-align: middle;\n",
       "    }\n",
       "\n",
       "    .dataframe tbody tr th {\n",
       "        vertical-align: top;\n",
       "    }\n",
       "\n",
       "    .dataframe thead th {\n",
       "        text-align: right;\n",
       "    }\n",
       "</style>\n",
       "<table border=\"1\" class=\"dataframe\">\n",
       "  <thead>\n",
       "    <tr style=\"text-align: right;\">\n",
       "      <th></th>\n",
       "      <th>SibSp</th>\n",
       "      <th>Survived</th>\n",
       "    </tr>\n",
       "  </thead>\n",
       "  <tbody>\n",
       "    <tr>\n",
       "      <th>1</th>\n",
       "      <td>1</td>\n",
       "      <td>0.535885</td>\n",
       "    </tr>\n",
       "    <tr>\n",
       "      <th>2</th>\n",
       "      <td>2</td>\n",
       "      <td>0.464286</td>\n",
       "    </tr>\n",
       "    <tr>\n",
       "      <th>0</th>\n",
       "      <td>0</td>\n",
       "      <td>0.345395</td>\n",
       "    </tr>\n",
       "    <tr>\n",
       "      <th>3</th>\n",
       "      <td>3</td>\n",
       "      <td>0.250000</td>\n",
       "    </tr>\n",
       "    <tr>\n",
       "      <th>4</th>\n",
       "      <td>4</td>\n",
       "      <td>0.166667</td>\n",
       "    </tr>\n",
       "    <tr>\n",
       "      <th>5</th>\n",
       "      <td>5</td>\n",
       "      <td>0.000000</td>\n",
       "    </tr>\n",
       "    <tr>\n",
       "      <th>6</th>\n",
       "      <td>8</td>\n",
       "      <td>0.000000</td>\n",
       "    </tr>\n",
       "  </tbody>\n",
       "</table>\n",
       "</div>"
      ],
      "text/plain": [
       "   SibSp  Survived\n",
       "1      1  0.535885\n",
       "2      2  0.464286\n",
       "0      0  0.345395\n",
       "3      3  0.250000\n",
       "4      4  0.166667\n",
       "5      5  0.000000\n",
       "6      8  0.000000"
      ]
     },
     "execution_count": 16,
     "metadata": {},
     "output_type": "execute_result"
    }
   ],
   "source": [
    "train[['SibSp','Survived']].groupby(['SibSp'], as_index=False).mean(\n",
    "    ).sort_values(by='Survived', ascending=False)"
   ]
  },
  {
   "cell_type": "code",
   "execution_count": 17,
   "metadata": {
    "colab": {
     "base_uri": "https://localhost:8080/",
     "height": 269
    },
    "id": "gqBdGPf_77cT",
    "outputId": "5f1311c5-939f-411f-8295-6d7a4df2dd17"
   },
   "outputs": [
    {
     "data": {
      "text/html": [
       "<div>\n",
       "<style scoped>\n",
       "    .dataframe tbody tr th:only-of-type {\n",
       "        vertical-align: middle;\n",
       "    }\n",
       "\n",
       "    .dataframe tbody tr th {\n",
       "        vertical-align: top;\n",
       "    }\n",
       "\n",
       "    .dataframe thead th {\n",
       "        text-align: right;\n",
       "    }\n",
       "</style>\n",
       "<table border=\"1\" class=\"dataframe\">\n",
       "  <thead>\n",
       "    <tr style=\"text-align: right;\">\n",
       "      <th></th>\n",
       "      <th>Parch</th>\n",
       "      <th>Survived</th>\n",
       "    </tr>\n",
       "  </thead>\n",
       "  <tbody>\n",
       "    <tr>\n",
       "      <th>3</th>\n",
       "      <td>3</td>\n",
       "      <td>0.600000</td>\n",
       "    </tr>\n",
       "    <tr>\n",
       "      <th>1</th>\n",
       "      <td>1</td>\n",
       "      <td>0.550847</td>\n",
       "    </tr>\n",
       "    <tr>\n",
       "      <th>2</th>\n",
       "      <td>2</td>\n",
       "      <td>0.500000</td>\n",
       "    </tr>\n",
       "    <tr>\n",
       "      <th>0</th>\n",
       "      <td>0</td>\n",
       "      <td>0.343658</td>\n",
       "    </tr>\n",
       "    <tr>\n",
       "      <th>5</th>\n",
       "      <td>5</td>\n",
       "      <td>0.200000</td>\n",
       "    </tr>\n",
       "    <tr>\n",
       "      <th>4</th>\n",
       "      <td>4</td>\n",
       "      <td>0.000000</td>\n",
       "    </tr>\n",
       "    <tr>\n",
       "      <th>6</th>\n",
       "      <td>6</td>\n",
       "      <td>0.000000</td>\n",
       "    </tr>\n",
       "  </tbody>\n",
       "</table>\n",
       "</div>"
      ],
      "text/plain": [
       "   Parch  Survived\n",
       "3      3  0.600000\n",
       "1      1  0.550847\n",
       "2      2  0.500000\n",
       "0      0  0.343658\n",
       "5      5  0.200000\n",
       "4      4  0.000000\n",
       "6      6  0.000000"
      ]
     },
     "execution_count": 17,
     "metadata": {},
     "output_type": "execute_result"
    }
   ],
   "source": [
    "train[['Parch','Survived']].groupby(['Parch'], as_index=False).mean(\n",
    "    ).sort_values(by='Survived', ascending=False)"
   ]
  },
  {
   "cell_type": "markdown",
   "metadata": {
    "id": "OsvhE1HL76Nl"
   },
   "source": [
    "- __Pclass:__ Nós observamos correlação signifiativa(>0.5) entre __Pclass__=1 and __Survived__ (classifying #3). Nós decidimos inciur esta feature no nosso modelo.\n",
    "- __Sex__ Nós confirmamos durante a definição do problema que __Sex=female__ tem teve uam taxa de sobrevivêcnia muito maior __74%__ (classifying #1).\n",
    "- __SibSp and Parch__ estas features tem zero correlação para determinados valores. pode ser melhor derivar uma feature ou conjunto de features fpara estes features inviduais (creating #1)."
   ]
  },
  {
   "cell_type": "markdown",
   "metadata": {
    "id": "SSMF7AdM9xgJ"
   },
   "source": [
    "## Analise da Visualização de Dados\n",
    "Agora nós podemos continuar confirmando algumas das nossas suposições usnado visualização para analise de dados."
   ]
  },
  {
   "cell_type": "markdown",
   "metadata": {
    "id": "nOz0Xvrj-I66"
   },
   "source": [
    "###Correlacionando recursos numéricos\n",
    "\n",
    "Vamos começar entendendo as correlações entre as features numéricos e nosso objetivo de solução (__Survived__).\n",
    "\n",
    "Um gráfico de histograma é útil para analisar variáveis numéricas contínuas como __Age__, onde faixas ou intervalos ajudarão a identificar padrões úteis. O histograma pode indicar a distribuição de amostras usando binarias definidos automaticamente ou faixas igualmente variadas. Isso nos ajuda a responder perguntas relacionadas a faixas específicas (os bebês tiveram melhor taxa de sobrevivência?)\n",
    "\n",
    "Note que o eixo-__x__ nas visualizações do historgram representa a contagem de amostras ou passageiros."
   ]
  },
  {
   "cell_type": "code",
   "execution_count": 18,
   "metadata": {
    "colab": {
     "base_uri": "https://localhost:8080/",
     "height": 242
    },
    "id": "UYC32jSRMZM0",
    "outputId": "cb553a13-b237-47b1-bffc-1844ffa184b8"
   },
   "outputs": [
    {
     "data": {
      "text/plain": [
       "<seaborn.axisgrid.FacetGrid at 0x7f381022ead0>"
      ]
     },
     "execution_count": 18,
     "metadata": {},
     "output_type": "execute_result"
    },
    {
     "data": {
      "image/png": "[encoded data removed]",
      "text/plain": [
       "<Figure size 432x216 with 2 Axes>"
      ]
     },
     "metadata": {
      "needs_background": "light"
     },
     "output_type": "display_data"
    }
   ],
   "source": [
    "histograma = sns.FacetGrid(train, col='Survived')\n",
    "histograma.map(plt.hist, 'Age', bins=20)"
   ]
  },
  {
   "cell_type": "markdown",
   "metadata": {
    "id": "4g9FXU3o_s7e"
   },
   "source": []
  },
  {
   "cell_type": "code",
   "execution_count": 18,
   "metadata": {
    "id": "tTE-AV_IX3Se"
   },
   "outputs": [],
   "source": []
  },
  {
   "cell_type": "markdown",
   "metadata": {
    "id": "Ocu-Guq1B2x4"
   },
   "source": [
    "####__Observations.__\n",
    "\n",
    "- Bebês (Age <=4) teveram alta taxa de sibrevivência(__survival__).\n",
    "- Passageiros mais velhos (Age = 80) sobreviveu( __survived__).\n",
    "- Um grande número de jovens de 15-25 não sobreviiveram (__Survived__).\n",
    "- A maioris dos passageiros estão na faixa de 13 à 35 anos. "
   ]
  },
  {
   "cell_type": "markdown",
   "metadata": {
    "id": "jGED-s9tC2ps"
   },
   "source": [
    "####__Decisões:__\n",
    "Essa análise simples confirma nossas suposições como decisões para os estágios subsequentes do fluxo de trabalho.\n",
    "    - Nós devemos considerar __Age__ (idade) em nosso modelo de treinamento.\n",
    "    - Completar os valores nulos da feature __Age__(Idade).\n",
    "    - Nós devemos agrupar por faixa etária (__Age_Band)."
   ]
  },
  {
   "cell_type": "markdown",
   "metadata": {
    "id": "ormtR5nqEBXv"
   },
   "source": [
    "### Correlacioando fetaures ordial e númericas\n",
    "\n",
    "Podemos combinar várias features para identificar correlações usando um único gráfico (plot). Isso pode ser feito com Features numéricos e categóricos que possuem valores numéricos."
   ]
  },
  {
   "cell_type": "code",
   "execution_count": 19,
   "metadata": {
    "colab": {
     "base_uri": "https://localhost:8080/",
     "height": 540
    },
    "id": "NPMSolPGEHkV",
    "outputId": "88f3e5ed-3d9f-4361-9996-755855c900e6"
   },
   "outputs": [
    {
     "name": "stderr",
     "output_type": "stream",
     "text": [
      "/usr/local/lib/python3.7/dist-packages/seaborn/axisgrid.py:337: UserWarning: The `size` parameter has been renamed to `height`; please update your code.\n",
      "  warnings.warn(msg, UserWarning)\n"
     ]
    },
    {
     "data": {
      "image/png": "[encoded data removed]",
      "text/plain": [
       "<Figure size 514.88x475.2 with 6 Axes>"
      ]
     },
     "metadata": {
      "needs_background": "light"
     },
     "output_type": "display_data"
    }
   ],
   "source": [
    "grid = sns.FacetGrid(train, col='Survived', row='Pclass', size=2.2,\n",
    "                     aspect=1.6)\n",
    "grid.map(plt.hist, 'Age', alpha=.5, bins=20)\n",
    "grid.add_legend();"
   ]
  },
  {
   "cell_type": "markdown",
   "metadata": {
    "id": "db0c6be6HZYP"
   },
   "source": [
    "####Observations\n",
    "- __Pclass__=3 teve a maior dos passageiros, porem a maior não sobreviveu. Confirma nossa suposição inicial.\n",
    "- passageiros bebê na __Pclass__=2 e __Pclass__=3 ma maioria sobreviveram. qualifies ainda mais nossa suposicão inciail.\n",
    "- a maioria dos passageiros na __Pclass__=1 sobreviveram. confirmando nossa nossa suposição inicial.\n",
    "- Pclass varia intermos da distribuiçao de idade de passageiros"
   ]
  },
  {
   "cell_type": "markdown",
   "metadata": {
    "id": "UxTpm-MmHu0e"
   },
   "source": [
    "#### **Decisões**\n",
    "Consider Pclass for model training."
   ]
  },
  {
   "cell_type": "markdown",
   "metadata": {
    "id": "GEazIEAxICqF"
   },
   "source": [
    "## Correlacionando features Categoricas\n",
    "\n",
    "Agora nós podemos correlacionar features categoricas com nossa váriavel resposta (target) que é __Survived__. "
   ]
  },
  {
   "cell_type": "code",
   "execution_count": 20,
   "metadata": {
    "colab": {
     "base_uri": "https://localhost:8080/",
     "height": 609
    },
    "id": "cv0fqluhHs1h",
    "outputId": "68c0251f-855b-42fa-b3e3-c0758d891473"
   },
   "outputs": [
    {
     "name": "stderr",
     "output_type": "stream",
     "text": [
      "/usr/local/lib/python3.7/dist-packages/seaborn/axisgrid.py:337: UserWarning: The `size` parameter has been renamed to `height`; please update your code.\n",
      "  warnings.warn(msg, UserWarning)\n",
      "/usr/local/lib/python3.7/dist-packages/seaborn/axisgrid.py:670: UserWarning: Using the pointplot function without specifying `order` is likely to produce an incorrect plot.\n",
      "  warnings.warn(warning)\n",
      "/usr/local/lib/python3.7/dist-packages/seaborn/axisgrid.py:675: UserWarning: Using the pointplot function without specifying `hue_order` is likely to produce an incorrect plot.\n",
      "  warnings.warn(warning)\n"
     ]
    },
    {
     "data": {
      "image/png": "[encoded data removed]",
      "text/plain": [
       "<Figure size 323.94x475.2 with 3 Axes>"
      ]
     },
     "metadata": {
      "needs_background": "light"
     },
     "output_type": "display_data"
    }
   ],
   "source": [
    "grid = sns.FacetGrid(train, row='Embarked', size=2.2, aspect=1.6)\n",
    "grid.map(sns.pointplot, 'Pclass', 'Survived', 'Sex', palette= 'deep')\n",
    "grid.add_legend();"
   ]
  },
  {
   "cell_type": "markdown",
   "metadata": {
    "id": "f9J-fKVnS2R9"
   },
   "source": [
    "#### Obeservações\n",
    "\n",
    "- Passagerios mulher tem uma taxa de sobrevivencia melhor to que homens - Confirms classifying (#1).\n",
    "*   Com excessão do embaquer=C (__Embarked=C__) onde homens tiveram maior taxa de sobrevivencia. Isso pode ser uma correlação entre __Pclass__ e __Embarked__, por sua vez __Pclass__ ter sobrevivido, não nessariamente um correlação direta entre embarque e Sobrevivêcnia.\n",
    "\n",
    "*   Homens tiveram melhor taxa de sobrevivêcnia in Pclass = 3, quando comparado com Pclass=2 para os portos Q e S. Completing (#2).\n",
    "\n",
    "*   OS portos de embarque tem taxa taxas de sobrevivencia variadas para Pclss=3 e entre passageiros homens. Correlating (#1)\n",
    "\n"
   ]
  },
  {
   "cell_type": "markdown",
   "metadata": {
    "id": "X6lGP5LLVtmj"
   },
   "source": [
    "#### Decisão\n",
    "\n",
    "- adcionar Feature Sex ao modelo de trainamento.\n",
    "- Completar e adicionar embarque ao modelo de trainamento"
   ]
  },
  {
   "cell_type": "markdown",
   "metadata": {
    "id": "yGMm60AaWBN8"
   },
   "source": [
    "### Correlating categorical and numerical features\n",
    "- Nós podemos também querer corelacionar feateares categoricas (com valors não numéricos) e features numericas. Nós podemos considerar correlacionar __Embarked__ (Categoria não-umérica), __Sex__ (Categoria não-numérica), __Fare__ (Numérica Continua), com __Survived__ (Categoria numérica)."
   ]
  },
  {
   "cell_type": "code",
   "execution_count": 23,
   "metadata": {
    "colab": {
     "base_uri": "https://localhost:8080/",
     "height": 574
    },
    "id": "8KZ4K3saIFHr",
    "outputId": "0b969ee7-bbbb-4564-c20d-a4a4509072af"
   },
   "outputs": [
    {
     "name": "stderr",
     "output_type": "stream",
     "text": [
      "/usr/local/lib/python3.7/dist-packages/seaborn/axisgrid.py:337: UserWarning: The `size` parameter has been renamed to `height`; please update your code.\n",
      "  warnings.warn(msg, UserWarning)\n",
      "/usr/local/lib/python3.7/dist-packages/seaborn/axisgrid.py:670: UserWarning: Using the barplot function without specifying `order` is likely to produce an incorrect plot.\n",
      "  warnings.warn(warning)\n"
     ]
    },
    {
     "data": {
      "image/png": "[encoded data removed]",
      "text/plain": [
       "<Figure size 514.88x475.2 with 6 Axes>"
      ]
     },
     "metadata": {
      "needs_background": "light"
     },
     "output_type": "display_data"
    }
   ],
   "source": [
    "grid = sns.FacetGrid(train, row='Embarked', col='Survived', size=2.2, aspect=1.6)\n",
    "grid.map(sns.barplot, 'Sex', 'Fare', alpha=.5, ci=None)\n",
    "grid.add_legend();"
   ]
  },
  {
   "cell_type": "markdown",
   "metadata": {
    "id": "bv8L7GVDXwW0"
   },
   "source": [
    "#### Observations.\n",
    "\n",
    "- Passagerios que pagam uma taxa alta, tiveram maior taxa de sobrevivencia. Confirmando nossa suposição para criar faixas de Fare.\n",
    "- Porto de embarque correlaciona taxa de sobrevivência. Confirma correalção (#1) e complettanod (#2)."
   ]
  },
  {
   "cell_type": "markdown",
   "metadata": {
    "id": "8Wj9NLHhYb4-"
   },
   "source": [
    "#### Decisão\n",
    "\n",
    "- Considerar faixa de feature faixa_taxa (faixa depreço do ticket)"
   ]
  },
  {
   "cell_type": "markdown",
   "metadata": {
    "id": "-5t0W71zYwrQ"
   },
   "source": [
    "## Dados Wrangle\n",
    "\n",
    "Coletamos várias suposições e decisões sobre nossos conjuntos de dados e requisitos de solução. Até agora não tivemos que alterar um único recurso ou valor para chegar a eles. Vamos agora executar nossas decisões e suposições para corrigir, criar e completar metas."
   ]
  },
  {
   "cell_type": "markdown",
   "metadata": {
    "id": "nXtC2IM8ZRcu"
   },
   "source": [
    "### Correcting by dropping features\n",
    "\n",
    "- Com base em nossas suposições e decisões, queremos descartar os recursos Cabine (corrigindo # 2) e Ticket (corrigindo # 1).\n",
    "\n",
    "- Quando aplicável, executamos operações em conjuntos de dados de treinamento e teste juntos para manter a consistência."
   ]
  },
  {
   "cell_type": "code",
   "execution_count": 34,
   "metadata": {
    "colab": {
     "base_uri": "https://localhost:8080/"
    },
    "id": "9fGmjUthXKbW",
    "outputId": "bdf843dd-ee1c-469f-cc70-bbdea4b85412"
   },
   "outputs": [
    {
     "name": "stdout",
     "output_type": "stream",
     "text": [
      "Antes (891, 12) (418, 11) (891, 12) (418, 11)\n",
      "Depois (891, 10) (418, 9) (891, 10) (418, 9)\n"
     ]
    }
   ],
   "source": [
    "print(\"Antes\", train.shape, test.shape, combine[0].shape, combine[1].shape)\n",
    "train.drop(['Ticket', 'Cabin'], axis=1, inplace=True)\n",
    "test.drop(['Ticket', 'Cabin'], axis=1, inplace=True)\n",
    "print(\"Depois\", train.shape, test.shape, combine[0].shape, combine[1].shape)"
   ]
  },
  {
   "cell_type": "markdown",
   "metadata": {
    "id": "xWdUvlBSp4xR"
   },
   "source": [
    "### Criar feature nova extraindo de uma exitente\n",
    "\n",
    "Nós querems analisar se a feature Name pode ser projetada extaindo os títulos e testar a correlação entre Titles and Survivel, antes de excluirmos a features Name e passengerld.\n",
    "\n",
    "No código a seguir nós extraimos a feature Title usando a expressão regular. A __RegEx__  padrões __(\\w+\\.)__ corresponde à primeira palavra que termina com um caractere de ponto no recurso Nome. O sinalizador expand = False retorna um DataFrame. "
   ]
  },
  {
   "cell_type": "markdown",
   "metadata": {
    "id": "yYJNolclygRR"
   },
   "source": [
    "#### Observations.\n",
    "\n",
    "Quando plotamos Título, Idade e Sobrevivido, notamos as seguintes observações.\n",
    "\n",
    "- A maioria dos títulos agrupa grupos de idade com precisão. Por exemplo: Título de mestre tem média de idade de 5 anos.\n",
    "- A sobrevivência entre as faixas etárias do título varia ligeiramente.\n",
    "- Certos títulos em sua maioria sobreviveram (Mme, Lady, Sir) ou não (Don, Rev, Jonkheer).\n"
   ]
  },
  {
   "cell_type": "markdown",
   "metadata": {
    "id": "wOteYOl_ynHJ"
   },
   "source": [
    "#### Decision.\n",
    "\n",
    "We decide to retain the new Title feature for model training."
   ]
  },
  {
   "cell_type": "code",
   "execution_count": 43,
   "metadata": {
    "colab": {
     "base_uri": "https://localhost:8080/",
     "height": 614
    },
    "id": "a9i_ZjiHaTfc",
    "outputId": "66abf23a-ba9c-4473-ff91-0ec5d502783c"
   },
   "outputs": [
    {
     "data": {
      "text/html": [
       "<div>\n",
       "<style scoped>\n",
       "    .dataframe tbody tr th:only-of-type {\n",
       "        vertical-align: middle;\n",
       "    }\n",
       "\n",
       "    .dataframe tbody tr th {\n",
       "        vertical-align: top;\n",
       "    }\n",
       "\n",
       "    .dataframe thead th {\n",
       "        text-align: right;\n",
       "    }\n",
       "</style>\n",
       "<table border=\"1\" class=\"dataframe\">\n",
       "  <thead>\n",
       "    <tr style=\"text-align: right;\">\n",
       "      <th>Sex</th>\n",
       "      <th>female</th>\n",
       "      <th>male</th>\n",
       "    </tr>\n",
       "    <tr>\n",
       "      <th>Title</th>\n",
       "      <th></th>\n",
       "      <th></th>\n",
       "    </tr>\n",
       "  </thead>\n",
       "  <tbody>\n",
       "    <tr>\n",
       "      <th>Capt</th>\n",
       "      <td>0</td>\n",
       "      <td>1</td>\n",
       "    </tr>\n",
       "    <tr>\n",
       "      <th>Col</th>\n",
       "      <td>0</td>\n",
       "      <td>2</td>\n",
       "    </tr>\n",
       "    <tr>\n",
       "      <th>Countess</th>\n",
       "      <td>1</td>\n",
       "      <td>0</td>\n",
       "    </tr>\n",
       "    <tr>\n",
       "      <th>Don</th>\n",
       "      <td>0</td>\n",
       "      <td>1</td>\n",
       "    </tr>\n",
       "    <tr>\n",
       "      <th>Dr</th>\n",
       "      <td>1</td>\n",
       "      <td>6</td>\n",
       "    </tr>\n",
       "    <tr>\n",
       "      <th>Jonkheer</th>\n",
       "      <td>0</td>\n",
       "      <td>1</td>\n",
       "    </tr>\n",
       "    <tr>\n",
       "      <th>Lady</th>\n",
       "      <td>1</td>\n",
       "      <td>0</td>\n",
       "    </tr>\n",
       "    <tr>\n",
       "      <th>Major</th>\n",
       "      <td>0</td>\n",
       "      <td>2</td>\n",
       "    </tr>\n",
       "    <tr>\n",
       "      <th>Master</th>\n",
       "      <td>0</td>\n",
       "      <td>40</td>\n",
       "    </tr>\n",
       "    <tr>\n",
       "      <th>Miss</th>\n",
       "      <td>182</td>\n",
       "      <td>0</td>\n",
       "    </tr>\n",
       "    <tr>\n",
       "      <th>Mlle</th>\n",
       "      <td>2</td>\n",
       "      <td>0</td>\n",
       "    </tr>\n",
       "    <tr>\n",
       "      <th>Mme</th>\n",
       "      <td>1</td>\n",
       "      <td>0</td>\n",
       "    </tr>\n",
       "    <tr>\n",
       "      <th>Mr</th>\n",
       "      <td>0</td>\n",
       "      <td>517</td>\n",
       "    </tr>\n",
       "    <tr>\n",
       "      <th>Mrs</th>\n",
       "      <td>125</td>\n",
       "      <td>0</td>\n",
       "    </tr>\n",
       "    <tr>\n",
       "      <th>Ms</th>\n",
       "      <td>1</td>\n",
       "      <td>0</td>\n",
       "    </tr>\n",
       "    <tr>\n",
       "      <th>Rev</th>\n",
       "      <td>0</td>\n",
       "      <td>6</td>\n",
       "    </tr>\n",
       "    <tr>\n",
       "      <th>Sir</th>\n",
       "      <td>0</td>\n",
       "      <td>1</td>\n",
       "    </tr>\n",
       "  </tbody>\n",
       "</table>\n",
       "</div>"
      ],
      "text/plain": [
       "Sex       female  male\n",
       "Title                 \n",
       "Capt           0     1\n",
       "Col            0     2\n",
       "Countess       1     0\n",
       "Don            0     1\n",
       "Dr             1     6\n",
       "Jonkheer       0     1\n",
       "Lady           1     0\n",
       "Major          0     2\n",
       "Master         0    40\n",
       "Miss         182     0\n",
       "Mlle           2     0\n",
       "Mme            1     0\n",
       "Mr             0   517\n",
       "Mrs          125     0\n",
       "Ms             1     0\n",
       "Rev            0     6\n",
       "Sir            0     1"
      ]
     },
     "execution_count": 43,
     "metadata": {},
     "output_type": "execute_result"
    }
   ],
   "source": [
    "for data in combine:\n",
    "    data['Title'] = data.Name.str.extract(' ([A-Za-z]+)\\.', expand=False)\n",
    "pd.crosstab(train['Title'], train['Sex'])"
   ]
  },
  {
   "cell_type": "markdown",
   "metadata": {
    "id": "HE8c7ES7tIG_"
   },
   "source": [
    "Nós podemos substituir muitos titulos com a maior combinação de nome ou classifica-las com raras."
   ]
  },
  {
   "cell_type": "code",
   "execution_count": 58,
   "metadata": {
    "colab": {
     "base_uri": "https://localhost:8080/",
     "height": 206
    },
    "id": "VvmFq81ZabrV",
    "outputId": "0e25a6a1-b2be-4c11-f9ad-ed2fb8f7df42"
   },
   "outputs": [
    {
     "data": {
      "text/html": [
       "<div>\n",
       "<style scoped>\n",
       "    .dataframe tbody tr th:only-of-type {\n",
       "        vertical-align: middle;\n",
       "    }\n",
       "\n",
       "    .dataframe tbody tr th {\n",
       "        vertical-align: top;\n",
       "    }\n",
       "\n",
       "    .dataframe thead th {\n",
       "        text-align: right;\n",
       "    }\n",
       "</style>\n",
       "<table border=\"1\" class=\"dataframe\">\n",
       "  <thead>\n",
       "    <tr style=\"text-align: right;\">\n",
       "      <th></th>\n",
       "      <th>Title</th>\n",
       "      <th>Survived</th>\n",
       "    </tr>\n",
       "  </thead>\n",
       "  <tbody>\n",
       "    <tr>\n",
       "      <th>0</th>\n",
       "      <td>Master</td>\n",
       "      <td>0.575000</td>\n",
       "    </tr>\n",
       "    <tr>\n",
       "      <th>1</th>\n",
       "      <td>Miss</td>\n",
       "      <td>0.697802</td>\n",
       "    </tr>\n",
       "    <tr>\n",
       "      <th>2</th>\n",
       "      <td>Mr</td>\n",
       "      <td>0.156673</td>\n",
       "    </tr>\n",
       "    <tr>\n",
       "      <th>3</th>\n",
       "      <td>Mrs</td>\n",
       "      <td>0.792000</td>\n",
       "    </tr>\n",
       "    <tr>\n",
       "      <th>4</th>\n",
       "      <td>Rare</td>\n",
       "      <td>0.444444</td>\n",
       "    </tr>\n",
       "  </tbody>\n",
       "</table>\n",
       "</div>"
      ],
      "text/plain": [
       "    Title  Survived\n",
       "0  Master  0.575000\n",
       "1    Miss  0.697802\n",
       "2      Mr  0.156673\n",
       "3     Mrs  0.792000\n",
       "4    Rare  0.444444"
      ]
     },
     "execution_count": 58,
     "metadata": {},
     "output_type": "execute_result"
    }
   ],
   "source": [
    "for dataset in combine:\n",
    "    dataset['Title'] = dataset['Title'].replace(['Lady', 'Countess','Capt', 'Col',\\\n",
    " \t'Don', 'Dr', 'Major', 'Rev', 'Sir', 'Jonkheer', 'Dona'], 'Rare')\n",
    "\n",
    "    dataset['Title'] = dataset['Title'].replace('Mlle', 'Miss')\n",
    "    dataset['Title'] = dataset['Title'].replace('Ms', 'Miss')\n",
    "    dataset['Title'] = dataset['Title'].replace('Mme', 'Mrs')\n",
    "    \n",
    "train[['Title', 'Survived']].groupby(['Title'], as_index=False).mean()"
   ]
  },
  {
   "cell_type": "markdown",
   "metadata": {
    "id": "rK5CieROzS6b"
   },
   "source": [
    "Podemos converter os títulos categóricos em ordinais."
   ]
  },
  {
   "cell_type": "code",
   "execution_count": 59,
   "metadata": {
    "colab": {
     "base_uri": "https://localhost:8080/",
     "height": 504
    },
    "id": "wIp66tKpx7_0",
    "outputId": "a9618971-313f-4e9c-c742-1a5d9680b6dd"
   },
   "outputs": [
    {
     "data": {
      "text/html": [
       "<div>\n",
       "<style scoped>\n",
       "    .dataframe tbody tr th:only-of-type {\n",
       "        vertical-align: middle;\n",
       "    }\n",
       "\n",
       "    .dataframe tbody tr th {\n",
       "        vertical-align: top;\n",
       "    }\n",
       "\n",
       "    .dataframe thead th {\n",
       "        text-align: right;\n",
       "    }\n",
       "</style>\n",
       "<table border=\"1\" class=\"dataframe\">\n",
       "  <thead>\n",
       "    <tr style=\"text-align: right;\">\n",
       "      <th></th>\n",
       "      <th>PassengerId</th>\n",
       "      <th>Survived</th>\n",
       "      <th>Pclass</th>\n",
       "      <th>Name</th>\n",
       "      <th>Sex</th>\n",
       "      <th>Age</th>\n",
       "      <th>SibSp</th>\n",
       "      <th>Parch</th>\n",
       "      <th>Fare</th>\n",
       "      <th>Embarked</th>\n",
       "      <th>Title</th>\n",
       "    </tr>\n",
       "  </thead>\n",
       "  <tbody>\n",
       "    <tr>\n",
       "      <th>0</th>\n",
       "      <td>1</td>\n",
       "      <td>0</td>\n",
       "      <td>3</td>\n",
       "      <td>Braund, Mr. Owen Harris</td>\n",
       "      <td>male</td>\n",
       "      <td>22.0</td>\n",
       "      <td>1</td>\n",
       "      <td>0</td>\n",
       "      <td>7.2500</td>\n",
       "      <td>S</td>\n",
       "      <td>1</td>\n",
       "    </tr>\n",
       "    <tr>\n",
       "      <th>1</th>\n",
       "      <td>2</td>\n",
       "      <td>1</td>\n",
       "      <td>1</td>\n",
       "      <td>Cumings, Mrs. John Bradley (Florence Briggs Th...</td>\n",
       "      <td>female</td>\n",
       "      <td>38.0</td>\n",
       "      <td>1</td>\n",
       "      <td>0</td>\n",
       "      <td>71.2833</td>\n",
       "      <td>C</td>\n",
       "      <td>3</td>\n",
       "    </tr>\n",
       "    <tr>\n",
       "      <th>2</th>\n",
       "      <td>3</td>\n",
       "      <td>1</td>\n",
       "      <td>3</td>\n",
       "      <td>Heikkinen, Miss. Laina</td>\n",
       "      <td>female</td>\n",
       "      <td>26.0</td>\n",
       "      <td>0</td>\n",
       "      <td>0</td>\n",
       "      <td>7.9250</td>\n",
       "      <td>S</td>\n",
       "      <td>2</td>\n",
       "    </tr>\n",
       "    <tr>\n",
       "      <th>3</th>\n",
       "      <td>4</td>\n",
       "      <td>1</td>\n",
       "      <td>1</td>\n",
       "      <td>Futrelle, Mrs. Jacques Heath (Lily May Peel)</td>\n",
       "      <td>female</td>\n",
       "      <td>35.0</td>\n",
       "      <td>1</td>\n",
       "      <td>0</td>\n",
       "      <td>53.1000</td>\n",
       "      <td>S</td>\n",
       "      <td>3</td>\n",
       "    </tr>\n",
       "    <tr>\n",
       "      <th>4</th>\n",
       "      <td>5</td>\n",
       "      <td>0</td>\n",
       "      <td>3</td>\n",
       "      <td>Allen, Mr. William Henry</td>\n",
       "      <td>male</td>\n",
       "      <td>35.0</td>\n",
       "      <td>0</td>\n",
       "      <td>0</td>\n",
       "      <td>8.0500</td>\n",
       "      <td>S</td>\n",
       "      <td>1</td>\n",
       "    </tr>\n",
       "  </tbody>\n",
       "</table>\n",
       "</div>"
      ],
      "text/plain": [
       "   PassengerId  Survived  Pclass  ...     Fare Embarked  Title\n",
       "0            1         0       3  ...   7.2500        S      1\n",
       "1            2         1       1  ...  71.2833        C      3\n",
       "2            3         1       3  ...   7.9250        S      2\n",
       "3            4         1       1  ...  53.1000        S      3\n",
       "4            5         0       3  ...   8.0500        S      1\n",
       "\n",
       "[5 rows x 11 columns]"
      ]
     },
     "execution_count": 59,
     "metadata": {},
     "output_type": "execute_result"
    }
   ],
   "source": [
    "title_mapping = {\"Mr\": 1, \"Miss\":2, \"Mrs\": 3, \"Master\":4, \"Rare\": 5}\n",
    "\n",
    "for data in combine:\n",
    "    data['Title']= data['Title'].map(title_mapping)\n",
    "    data['Title']= data['Title'].fillna(0)\n",
    "\n",
    "train.head()"
   ]
  },
  {
   "cell_type": "markdown",
   "metadata": {
    "id": "_Yi6JO2f0Hnv"
   },
   "source": [
    "Agora podemos retirar com segurança a feature Name dos datasets de treinamento e teste. Também não precisamos do recurso PassengerId no Dataset de treinamento"
   ]
  },
  {
   "cell_type": "code",
   "execution_count": 62,
   "metadata": {
    "id": "HE7zCTf3w-9G"
   },
   "outputs": [],
   "source": [
    "train.drop(['Name','PassengerId'], axis=1, inplace=True)"
   ]
  },
  {
   "cell_type": "code",
   "execution_count": 64,
   "metadata": {
    "id": "MGTy8YBgs0bT"
   },
   "outputs": [],
   "source": [
    "test.drop(['Name'], axis=1, inplace=True)"
   ]
  },
  {
   "cell_type": "code",
   "execution_count": 65,
   "metadata": {
    "colab": {
     "base_uri": "https://localhost:8080/"
    },
    "id": "OfDIZzWEvu6S",
    "outputId": "443ca9ca-9598-4bd7-c627-6f55154823eb"
   },
   "outputs": [
    {
     "data": {
      "text/plain": [
       "((891, 9), (418, 9))"
      ]
     },
     "execution_count": 65,
     "metadata": {},
     "output_type": "execute_result"
    }
   ],
   "source": [
    "train.shape, test.shape"
   ]
  },
  {
   "cell_type": "markdown",
   "metadata": {
    "id": "Q3JwG-k81MIp"
   },
   "source": [
    "### Convertendo uma feature categorica\n",
    "\n",
    "Agora podemos converter features que contêm strings em valores numéricos. Isso é exigido pela maioria dos algoritmos de modelo. Isso também nos ajudará a atingir a meta de conclusão o goal.\n",
    "\n",
    "Vamos começar convertendo o recurso Sexo em uma nova feature chamada Gender, onde female = 1 e male = 0."
   ]
  },
  {
   "cell_type": "code",
   "execution_count": 66,
   "metadata": {
    "colab": {
     "base_uri": "https://localhost:8080/",
     "height": 206
    },
    "id": "9TaB7g5_1FTO",
    "outputId": "9d7effe3-6cc7-4b85-b24a-daea318d9a80"
   },
   "outputs": [
    {
     "data": {
      "text/html": [
       "<div>\n",
       "<style scoped>\n",
       "    .dataframe tbody tr th:only-of-type {\n",
       "        vertical-align: middle;\n",
       "    }\n",
       "\n",
       "    .dataframe tbody tr th {\n",
       "        vertical-align: top;\n",
       "    }\n",
       "\n",
       "    .dataframe thead th {\n",
       "        text-align: right;\n",
       "    }\n",
       "</style>\n",
       "<table border=\"1\" class=\"dataframe\">\n",
       "  <thead>\n",
       "    <tr style=\"text-align: right;\">\n",
       "      <th></th>\n",
       "      <th>Survived</th>\n",
       "      <th>Pclass</th>\n",
       "      <th>Sex</th>\n",
       "      <th>Age</th>\n",
       "      <th>SibSp</th>\n",
       "      <th>Parch</th>\n",
       "      <th>Fare</th>\n",
       "      <th>Embarked</th>\n",
       "      <th>Title</th>\n",
       "    </tr>\n",
       "  </thead>\n",
       "  <tbody>\n",
       "    <tr>\n",
       "      <th>0</th>\n",
       "      <td>0</td>\n",
       "      <td>3</td>\n",
       "      <td>0</td>\n",
       "      <td>22.0</td>\n",
       "      <td>1</td>\n",
       "      <td>0</td>\n",
       "      <td>7.2500</td>\n",
       "      <td>S</td>\n",
       "      <td>1</td>\n",
       "    </tr>\n",
       "    <tr>\n",
       "      <th>1</th>\n",
       "      <td>1</td>\n",
       "      <td>1</td>\n",
       "      <td>1</td>\n",
       "      <td>38.0</td>\n",
       "      <td>1</td>\n",
       "      <td>0</td>\n",
       "      <td>71.2833</td>\n",
       "      <td>C</td>\n",
       "      <td>3</td>\n",
       "    </tr>\n",
       "    <tr>\n",
       "      <th>2</th>\n",
       "      <td>1</td>\n",
       "      <td>3</td>\n",
       "      <td>1</td>\n",
       "      <td>26.0</td>\n",
       "      <td>0</td>\n",
       "      <td>0</td>\n",
       "      <td>7.9250</td>\n",
       "      <td>S</td>\n",
       "      <td>2</td>\n",
       "    </tr>\n",
       "    <tr>\n",
       "      <th>3</th>\n",
       "      <td>1</td>\n",
       "      <td>1</td>\n",
       "      <td>1</td>\n",
       "      <td>35.0</td>\n",
       "      <td>1</td>\n",
       "      <td>0</td>\n",
       "      <td>53.1000</td>\n",
       "      <td>S</td>\n",
       "      <td>3</td>\n",
       "    </tr>\n",
       "    <tr>\n",
       "      <th>4</th>\n",
       "      <td>0</td>\n",
       "      <td>3</td>\n",
       "      <td>0</td>\n",
       "      <td>35.0</td>\n",
       "      <td>0</td>\n",
       "      <td>0</td>\n",
       "      <td>8.0500</td>\n",
       "      <td>S</td>\n",
       "      <td>1</td>\n",
       "    </tr>\n",
       "  </tbody>\n",
       "</table>\n",
       "</div>"
      ],
      "text/plain": [
       "   Survived  Pclass  Sex   Age  SibSp  Parch     Fare Embarked  Title\n",
       "0         0       3    0  22.0      1      0   7.2500        S      1\n",
       "1         1       1    1  38.0      1      0  71.2833        C      3\n",
       "2         1       3    1  26.0      0      0   7.9250        S      2\n",
       "3         1       1    1  35.0      1      0  53.1000        S      3\n",
       "4         0       3    0  35.0      0      0   8.0500        S      1"
      ]
     },
     "execution_count": 66,
     "metadata": {},
     "output_type": "execute_result"
    }
   ],
   "source": [
    "sex_mapping = {'female':1, 'male': 0}\n",
    "\n",
    "for data in combine:\n",
    "    data['Sex'] = data['Sex'].map(sex_mapping).astype(int)\n",
    "\n",
    "train.head()"
   ]
  },
  {
   "cell_type": "code",
   "execution_count": null,
   "metadata": {
    "id": "HuPC9iYH2I9z"
   },
   "outputs": [],
   "source": []
  }
 ],
 "metadata": {
  "colab": {
   "authorship_tag": "ABX9TyOK50RCyBucqt5MD1rwmHih",
   "collapsed_sections": [],
   "name": "titanic.ipynb",
   "provenance": []
  },
  "kernelspec": {
   "display_name": "Python 3 (ipykernel)",
   "language": "python",
   "name": "python3"
  },
  "language_info": {
   "codemirror_mode": {
    "name": "ipython",
    "version": 3
   },
   "file_extension": ".py",
   "mimetype": "text/x-python",
   "name": "python",
   "nbconvert_exporter": "python",
   "pygments_lexer": "ipython3",
   "version": "3.9.6"
  }
 },
 "nbformat": 4,
 "nbformat_minor": 4
}
